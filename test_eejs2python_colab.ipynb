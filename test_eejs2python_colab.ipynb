{
  "nbformat": 4,
  "nbformat_minor": 0,
  "metadata": {
    "colab": {
      "name": "test_eejs2python_colab.ipynb",
      "version": "0.3.2",
      "views": {},
      "default_view": {},
      "provenance": []
    },
    "kernelspec": {
      "name": "python3",
      "display_name": "Python 3"
    }
  },
  "cells": [
    {
      "metadata": {
        "id": "k7al_QuKIcHW",
        "colab_type": "code",
        "colab": {
          "autoexec": {
            "startup": false,
            "wait_interval": 0
          }
        }
      },
      "cell_type": "code",
      "source": [
        "!rm -r ee-js-to-python-syntax earthengine-api"
      ],
      "execution_count": 0,
      "outputs": []
    },
    {
      "metadata": {
        "id": "cTF369ihHLgo",
        "colab_type": "code",
        "colab": {
          "autoexec": {
            "startup": false,
            "wait_interval": 0
          },
          "base_uri": "https://localhost:8080/",
          "height": 104
        },
        "outputId": "c7663df4-eb56-4984-bd15-e422a8725f05",
        "executionInfo": {
          "status": "ok",
          "timestamp": 1529313341861,
          "user_tz": -120,
          "elapsed": 2300,
          "user": {
            "displayName": "Edward P Morris",
            "photoUrl": "https://lh3.googleusercontent.com/a/default-user=s128",
            "userId": "106980417751136741386"
          }
        }
      },
      "cell_type": "code",
      "source": [
        "# Get the package\n",
        "!git clone https://github.com/gee-community/ee-js-to-python-syntax.git"
      ],
      "execution_count": 85,
      "outputs": [
        {
          "output_type": "stream",
          "text": [
            "Cloning into 'ee-js-to-python-syntax'...\n",
            "remote: Counting objects: 18, done.\u001b[K\n",
            "remote: Compressing objects: 100% (12/12), done.\u001b[K\n",
            "remote: Total 18 (delta 5), reused 14 (delta 4), pack-reused 0\u001b[K\n",
            "Unpacking objects: 100% (18/18), done.\n"
          ],
          "name": "stdout"
        }
      ]
    },
    {
      "metadata": {
        "id": "0wBymPFt8M0S",
        "colab_type": "code",
        "colab": {
          "autoexec": {
            "startup": false,
            "wait_interval": 0
          },
          "base_uri": "https://localhost:8080/",
          "height": 225
        },
        "outputId": "a31297f1-3016-4146-d6cf-bbda4a08007a",
        "executionInfo": {
          "status": "ok",
          "timestamp": 1529313344526,
          "user_tz": -120,
          "elapsed": 597,
          "user": {
            "displayName": "Edward P Morris",
            "photoUrl": "https://lh3.googleusercontent.com/a/default-user=s128",
            "userId": "106980417751136741386"
          }
        }
      },
      "cell_type": "code",
      "source": [
        "# See the comandline options\n",
        "%run ee-js-to-python-syntax/eejs2python/main -h\n"
      ],
      "execution_count": 86,
      "outputs": [
        {
          "output_type": "stream",
          "text": [
            "usage: main.py [-h] [-dir JS_DIR] [-out OUT_DIR] [-fm ADD_FRONT_MATTER]\n",
            "               [-cm CONVERT_MAP]\n",
            "\n",
            "optional arguments:\n",
            "  -h, --help            show this help message and exit\n",
            "  -dir JS_DIR           Path to the directory containing JavaScript files\n",
            "  -out OUT_DIR          Path to the directory for saving converted files, this\n",
            "                        will be created if not available\n",
            "  -fm ADD_FRONT_MATTER, --add-front-matter ADD_FRONT_MATTER\n",
            "                        Add standard earthengine Python front matter\n",
            "  -cm CONVERT_MAP, --convert-map CONVERT_MAP\n",
            "                        Convert JS Map. to Python syntax\n"
          ],
          "name": "stdout"
        }
      ]
    },
    {
      "metadata": {
        "id": "hlU89IvA4BTt",
        "colab_type": "code",
        "colab": {
          "autoexec": {
            "startup": false,
            "wait_interval": 0
          },
          "base_uri": "https://localhost:8080/",
          "height": 121
        },
        "outputId": "e3cb0039-a4be-4d50-8b18-50e83bebeb3a",
        "executionInfo": {
          "status": "ok",
          "timestamp": 1529313352919,
          "user_tz": -120,
          "elapsed": 5062,
          "user": {
            "displayName": "Edward P Morris",
            "photoUrl": "https://lh3.googleusercontent.com/a/default-user=s128",
            "userId": "106980417751136741386"
          }
        }
      },
      "cell_type": "code",
      "source": [
        "# Get some examples\n",
        "!git clone https://github.com/google/earthengine-api.git"
      ],
      "execution_count": 87,
      "outputs": [
        {
          "output_type": "stream",
          "text": [
            "Cloning into 'earthengine-api'...\n",
            "remote: Counting objects: 4010, done.\u001b[K\n",
            "remote: Compressing objects: 100% (54/54), done.\u001b[K\n",
            "remote: Total 4010 (delta 14), reused 47 (delta 13), pack-reused 3939\u001b[K\n",
            "Receiving objects: 100% (4010/4010), 10.17 MiB | 31.10 MiB/s, done.\n",
            "Resolving deltas: 100% (2463/2463), done.\n"
          ],
          "name": "stdout"
        }
      ]
    },
    {
      "metadata": {
        "id": "agypjMJB5tEq",
        "colab_type": "code",
        "colab": {
          "autoexec": {
            "startup": false,
            "wait_interval": 0
          },
          "base_uri": "https://localhost:8080/",
          "height": 121
        },
        "outputId": "c8cc34f4-41cb-435d-f4bf-c465af16390a",
        "executionInfo": {
          "status": "ok",
          "timestamp": 1529313356506,
          "user_tz": -120,
          "elapsed": 1626,
          "user": {
            "displayName": "Edward P Morris",
            "photoUrl": "https://lh3.googleusercontent.com/a/default-user=s128",
            "userId": "106980417751136741386"
          }
        }
      },
      "cell_type": "code",
      "source": [
        "# See which examples are available\n",
        "!ls earthengine-api/javascript/src/examples/Image"
      ],
      "execution_count": 88,
      "outputs": [
        {
          "output_type": "stream",
          "text": [
            "CannyEdgeDetector.js\t\t  Hillshade.js\t\t   PixelArea.js\r\n",
            "CenterPivotIrrigationDetector.js  HoughTransform.js\t   PixelLonLat.js\r\n",
            "Clamp.js\t\t\t  HSVPanSharpening.js\t   Polynomial.js\r\n",
            "ConnectedPixelCount.js\t\t  LandcoverCleanup.js\t   ReduceRegion.js\r\n",
            "Expression.js\t\t\t  ModisQaBands.js\t   ZeroCrossing.js\r\n",
            "FromName.js\t\t\t  NormalizedDifference.js\r\n"
          ],
          "name": "stdout"
        }
      ]
    },
    {
      "metadata": {
        "id": "QVPdE_hn4YuP",
        "colab_type": "code",
        "colab": {
          "autoexec": {
            "startup": false,
            "wait_interval": 0
          },
          "base_uri": "https://localhost:8080/",
          "height": 312
        },
        "outputId": "99e6e369-004d-43ad-ab1b-1d08781e21f7",
        "executionInfo": {
          "status": "ok",
          "timestamp": 1529313366133,
          "user_tz": -120,
          "elapsed": 538,
          "user": {
            "displayName": "Edward P Morris",
            "photoUrl": "https://lh3.googleusercontent.com/a/default-user=s128",
            "userId": "106980417751136741386"
          }
        }
      },
      "cell_type": "code",
      "source": [
        "%run main.py -dir earthengine-api/javascript/src/examples/Image/ -out converted_python -fm True\n"
      ],
      "execution_count": 89,
      "outputs": [
        {
          "output_type": "stream",
          "text": [
            "Conversion written to  <_io.TextIOWrapper name='converted_python/ReduceRegion.py' mode='w' encoding='UTF-8'>\n",
            "Conversion written to  <_io.TextIOWrapper name='converted_python/NormalizedDifference.py' mode='w' encoding='UTF-8'>\n",
            "Conversion written to  <_io.TextIOWrapper name='converted_python/ConnectedPixelCount.py' mode='w' encoding='UTF-8'>\n",
            "Conversion written to  <_io.TextIOWrapper name='converted_python/FromName.py' mode='w' encoding='UTF-8'>\n",
            "Conversion written to  <_io.TextIOWrapper name='converted_python/PixelArea.py' mode='w' encoding='UTF-8'>\n",
            "Conversion written to  <_io.TextIOWrapper name='converted_python/ModisQaBands.py' mode='w' encoding='UTF-8'>\n",
            "Conversion written to  <_io.TextIOWrapper name='converted_python/HoughTransform.py' mode='w' encoding='UTF-8'>\n",
            "Conversion written to  <_io.TextIOWrapper name='converted_python/Polynomial.py' mode='w' encoding='UTF-8'>\n",
            "Conversion written to  <_io.TextIOWrapper name='converted_python/Clamp.py' mode='w' encoding='UTF-8'>\n",
            "Conversion written to  <_io.TextIOWrapper name='converted_python/Hillshade.py' mode='w' encoding='UTF-8'>\n",
            "Conversion written to  <_io.TextIOWrapper name='converted_python/LandcoverCleanup.py' mode='w' encoding='UTF-8'>\n",
            "Conversion written to  <_io.TextIOWrapper name='converted_python/CannyEdgeDetector.py' mode='w' encoding='UTF-8'>\n",
            "Conversion written to  <_io.TextIOWrapper name='converted_python/PixelLonLat.py' mode='w' encoding='UTF-8'>\n",
            "Conversion written to  <_io.TextIOWrapper name='converted_python/CenterPivotIrrigationDetector.py' mode='w' encoding='UTF-8'>\n",
            "Conversion written to  <_io.TextIOWrapper name='converted_python/Expression.py' mode='w' encoding='UTF-8'>\n",
            "Conversion written to  <_io.TextIOWrapper name='converted_python/HSVPanSharpening.py' mode='w' encoding='UTF-8'>\n",
            "Conversion written to  <_io.TextIOWrapper name='converted_python/ZeroCrossing.py' mode='w' encoding='UTF-8'>\n"
          ],
          "name": "stdout"
        }
      ]
    },
    {
      "metadata": {
        "id": "LZQi8E7ZA0wO",
        "colab_type": "code",
        "colab": {
          "autoexec": {
            "startup": false,
            "wait_interval": 0
          },
          "base_uri": "https://localhost:8080/",
          "height": 573
        },
        "outputId": "275bd7a6-3864-43c8-94c6-d4431b52863d",
        "executionInfo": {
          "status": "ok",
          "timestamp": 1529313374034,
          "user_tz": -120,
          "elapsed": 1669,
          "user": {
            "displayName": "Edward P Morris",
            "photoUrl": "https://lh3.googleusercontent.com/a/default-user=s128",
            "userId": "106980417751136741386"
          }
        }
      },
      "cell_type": "code",
      "source": [
        "# Check out the conversion\n",
        "# Note conversion of Map.addLayer ect is still to be implemented\n",
        "!cat converted_python/HSVPanSharpening.py"
      ],
      "execution_count": 90,
      "outputs": [
        {
          "output_type": "stream",
          "text": [
            "#!/usr/bin/env python\r\n",
            "\r\n",
            "# Import earthengine API\r\n",
            "import ee\r\n",
            "import ee.mapclient\r\n",
            "\r\n",
            "# Initialise\r\n",
            "ee.Initialize()\r\n",
            "\r\n",
            "# HSV-based Pan-Sharpening.\r\n",
            "\r\n",
            "# Grab a sample L8 image and pull out the RGB and pan bands.\r\n",
            "image = ee.Image(ee.ImageCollection('LANDSAT/LC08/C01/T1_TOA')\r\n",
            "  .filterDate('2017-01-01', '2017-12-31')\r\n",
            "  .filterBounds(ee.Geometry.Point(-122.0808, 37.3947))\r\n",
            "  .sort('CLOUD_COVER')\r\n",
            "  .first());\r\n",
            "\r\n",
            "rgb = image.select('B4', 'B3', 'B2');\r\n",
            "pan = image.select('B8');\r\n",
            "\r\n",
            "# Convert to HSV, swap in the pan band, and convert back to RGB.\r\n",
            "huesat = rgb.rgbToHsv().select('hue', 'saturation');\r\n",
            "upres = ee.Image.cat(huesat, pan).hsvToRgb();\r\n",
            "\r\n",
            "# There are many fine places to look; here is one.  Comment\r\n",
            "# this out if you want to twiddle knobs while panning around.\r\n",
            "Map.setCenter(-122.0808, 37.3947, 14);\r\n",
            "\r\n",
            "# Display before and after layers using the same vis parameters.\r\n",
            "Map.addLayer(rgb, {max: 0.3}, 'Original');\r\n",
            "Map.addLayer(upres, {max: 0.3}, 'Pansharpened');\r\n"
          ],
          "name": "stdout"
        }
      ]
    }
  ]
}